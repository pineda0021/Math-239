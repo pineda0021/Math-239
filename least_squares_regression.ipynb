{
  "nbformat": 4,
  "nbformat_minor": 0,
  "metadata": {
    "colab": {
      "provenance": []
    },
    "kernelspec": {
      "name": "python3",
      "display_name": "Python 3"
    },
    "language_info": {
      "name": "python"
    }
  },
  "cells": [
    {
      "cell_type": "code",
      "execution_count": 3,
      "metadata": {
        "id": "W9sn_4RjMoCh"
      },
      "outputs": [],
      "source": [
        "def least_squares_regression(x, y):\n",
        "    \"\"\"\n",
        "    Compute the least squares regression line for given x and y values.\n",
        "    Displays the equation in LaTeX format and returns the coefficients.\n",
        "\n",
        "    Author: Edward Pineda-Castro\n",
        "    \"\"\"\n",
        "    from IPython.display import display, Math\n",
        "\n",
        "    # Calculate the necessary sums\n",
        "    n = len(x)\n",
        "    sum_x = sum(x)\n",
        "    sum_y = sum(y)\n",
        "    sum_xy = sum(x[i]*y[i] for i in range(n))\n",
        "    sum_x_squared = sum(xi ** 2 for xi in x)\n",
        "\n",
        "    # Calculate the slope (b1) using the formula\n",
        "    b1 = (n * sum_xy - sum_x * sum_y) / (n * sum_x_squared - sum_x ** 2)\n",
        "\n",
        "    # Calculate the intercept (b0) using the formula\n",
        "    b0 = (sum_y - b1 * sum_x) / n\n",
        "\n",
        "\n",
        "    # Display the regression equation in LaTeX-style format\n",
        "    display(Math(f\"\\\\hat{{y}} = {b0:.2f} + {b1:.2f}x\"))\n",
        "    print(\"\\n\")\n",
        "    print(\"Professor: Edward Pineda-Castro\")\n",
        "    print(\"Department of Mathematics\")\n",
        "    print(\"Los Angeles City College\")\n",
        "\n",
        "    return b0, b1\n",
        "\n"
      ]
    }
  ]
}